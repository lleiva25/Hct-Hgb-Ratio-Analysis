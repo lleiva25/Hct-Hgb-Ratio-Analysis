{
 "cells": [
  {
   "cell_type": "code",
   "execution_count": 1,
   "id": "e0537dfa-c116-421d-931c-103986bc6614",
   "metadata": {},
   "outputs": [
    {
     "name": "stdout",
     "output_type": "stream",
     "text": [
      "Randomized dataset saved to 'randomized_patient_data.xlsx'\n"
     ]
    }
   ],
   "source": [
    "import pandas as pd\n",
    "import random\n",
    "from faker import Faker\n",
    "from datetime import datetime, timedelta\n",
    "\n",
    "# = Randomize Excel Data\n",
    "# Initialize Faker\n",
    "fake = Faker()\n",
    "\n",
    "# Configuration\n",
    "num_records = 500  # Number of rows to generate\n",
    "sex_options = ['M', 'F']\n",
    "results_range = (1.5, 9.9)\n",
    "\n",
    "# Generate Data\n",
    "data = []\n",
    "for _ in range(num_records):\n",
    "    dob = fake.date_of_birth(minimum_age=1, maximum_age=90)\n",
    "    age = (datetime.today().date() - dob).days // 365\n",
    "    record = {\n",
    "        \"LAST_NAME\": fake.last_name(),\n",
    "        \"PATIENT\": fake.name(),\n",
    "        \"MRN\": random.randint(100000, 999999),\n",
    "        \"DOB\": dob.strftime(\"%Y-%m-%d\"),\n",
    "        \"AGE\": age,\n",
    "        \"SEX\": random.choice(sex_options),\n",
    "        \"VER_DATE\": fake.date_between(start_date='-2y', end_date='today').strftime(\"%Y-%m-%d\"),\n",
    "        \"RESULT\": round(random.uniform(*results_range), 1)\n",
    "    }\n",
    "    data.append(record)\n",
    "\n",
    "# Convert to DataFrame\n",
    "df = pd.DataFrame(data)\n",
    "\n",
    "# Export to Excel\n",
    "output_file = \"randomized_patient_data.xlsx\"\n",
    "df.to_excel(output_file, index=False)\n",
    "\n",
    "print(f\"Randomized dataset saved to '{output_file}'\")"
   ]
  },
  {
   "cell_type": "code",
   "execution_count": null,
   "id": "d586164c-b675-4db6-9988-5b6576a55198",
   "metadata": {},
   "outputs": [],
   "source": []
  }
 ],
 "metadata": {
  "kernelspec": {
   "display_name": "Python 3 (ipykernel)",
   "language": "python",
   "name": "python3"
  },
  "language_info": {
   "codemirror_mode": {
    "name": "ipython",
    "version": 3
   },
   "file_extension": ".py",
   "mimetype": "text/x-python",
   "name": "python",
   "nbconvert_exporter": "python",
   "pygments_lexer": "ipython3",
   "version": "3.12.7"
  }
 },
 "nbformat": 4,
 "nbformat_minor": 5
}
